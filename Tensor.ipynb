{
  "nbformat": 4,
  "nbformat_minor": 0,
  "metadata": {
    "colab": {
      "name": "Tensor.ipynb",
      "provenance": []
    },
    "kernelspec": {
      "name": "python3",
      "display_name": "Python 3"
    },
    "language_info": {
      "name": "python"
    }
  },
  "cells": [
    {
      "cell_type": "code",
      "metadata": {
        "id": "M8AHcBMa0ACH"
      },
      "source": [
        "import torch"
      ],
      "execution_count": 2,
      "outputs": []
    },
    {
      "cell_type": "code",
      "metadata": {
        "id": "wwh5rmFh2KBj"
      },
      "source": [
        "device =\"cuda\" if torch.cuda.is_available() else \"cpu\""
      ],
      "execution_count": 5,
      "outputs": []
    },
    {
      "cell_type": "code",
      "metadata": {
        "colab": {
          "base_uri": "https://localhost:8080/"
        },
        "id": "7pbHikdJ0QAT",
        "outputId": "5829f844-6012-440d-f4c8-c67bf4cff9ac"
      },
      "source": [
        "mytensor= torch.tensor([[1,2,3],[1,2,3]], dtype = torch.float16, device = device)\n",
        "mytensor\n",
        "mytensor.device\n",
        "mytensor.shape\n",
        "mytensor.requires_grad"
      ],
      "execution_count": 8,
      "outputs": [
        {
          "output_type": "execute_result",
          "data": {
            "text/plain": [
              "False"
            ]
          },
          "metadata": {},
          "execution_count": 8
        }
      ]
    },
    {
      "cell_type": "code",
      "metadata": {
        "colab": {
          "base_uri": "https://localhost:8080/"
        },
        "id": "7VTHaE0D22Gv",
        "outputId": "d1fc1fd3-23fa-4416-afc1-b79eacffd5a8"
      },
      "source": [
        "x = torch.empty(size=(3,3))\n",
        "x"
      ],
      "execution_count": 11,
      "outputs": [
        {
          "output_type": "execute_result",
          "data": {
            "text/plain": [
              "tensor([[-7.1124e+22,  3.0780e-41,  3.3631e-44],\n",
              "        [ 0.0000e+00,         nan,  6.4460e-44],\n",
              "        [ 1.1578e+27,  1.1362e+30,  7.1547e+22]])"
            ]
          },
          "metadata": {},
          "execution_count": 11
        }
      ]
    },
    {
      "cell_type": "code",
      "metadata": {
        "colab": {
          "base_uri": "https://localhost:8080/"
        },
        "id": "Qs6YnuR13C9c",
        "outputId": "cd912d43-fe11-4cdd-b3f1-938cb8d16da1"
      },
      "source": [
        "x = torch.ones(size=(3,3))\n",
        "x"
      ],
      "execution_count": 13,
      "outputs": [
        {
          "output_type": "execute_result",
          "data": {
            "text/plain": [
              "tensor([[1., 1., 1.],\n",
              "        [1., 1., 1.],\n",
              "        [1., 1., 1.]])"
            ]
          },
          "metadata": {},
          "execution_count": 13
        }
      ]
    },
    {
      "cell_type": "code",
      "metadata": {
        "colab": {
          "base_uri": "https://localhost:8080/"
        },
        "id": "Y8wXS0bP3MZU",
        "outputId": "0811c367-bc82-48a1-91e5-2e1ecb2d896d"
      },
      "source": [
        "x = torch.eye(3,3) #identity matrix\n",
        "x"
      ],
      "execution_count": 15,
      "outputs": [
        {
          "output_type": "execute_result",
          "data": {
            "text/plain": [
              "tensor([[1., 0., 0.],\n",
              "        [0., 1., 0.],\n",
              "        [0., 0., 1.]])"
            ]
          },
          "metadata": {},
          "execution_count": 15
        }
      ]
    },
    {
      "cell_type": "code",
      "metadata": {
        "colab": {
          "base_uri": "https://localhost:8080/"
        },
        "id": "raxRLwCZ3oqS",
        "outputId": "901f0f45-e90e-4f0f-ba67-6a640f31064c"
      },
      "source": [
        "x = torch.linspace(start=0.1,end=1, steps=10)\n",
        "x"
      ],
      "execution_count": 18,
      "outputs": [
        {
          "output_type": "execute_result",
          "data": {
            "text/plain": [
              "tensor([0.1000, 0.2000, 0.3000, 0.4000, 0.5000, 0.6000, 0.7000, 0.8000, 0.9000,\n",
              "        1.0000])"
            ]
          },
          "metadata": {},
          "execution_count": 18
        }
      ]
    },
    {
      "cell_type": "code",
      "metadata": {
        "colab": {
          "base_uri": "https://localhost:8080/"
        },
        "id": "I-rmcLru6boV",
        "outputId": "4a8d17a6-16e6-426b-9211-ee8ea702c76c"
      },
      "source": [
        " x = torch.empty(size=(3,3)).normal_(mean=0, std=1)\n",
        "x"
      ],
      "execution_count": 20,
      "outputs": [
        {
          "output_type": "execute_result",
          "data": {
            "text/plain": [
              "tensor([[ 1.7769, -0.4246,  0.4620],\n",
              "        [ 0.8537, -0.7804,  1.1550],\n",
              "        [-0.6103, -1.7699, -0.5505]])"
            ]
          },
          "metadata": {},
          "execution_count": 20
        }
      ]
    },
    {
      "cell_type": "code",
      "metadata": {
        "colab": {
          "base_uri": "https://localhost:8080/"
        },
        "id": "SGIa3KdS6sBb",
        "outputId": "4eccc6b9-fea9-4189-bfc8-671e560658eb"
      },
      "source": [
        "x = torch.empty(size=(3,3)).uniform_(0,1)\n",
        "x"
      ],
      "execution_count": 21,
      "outputs": [
        {
          "output_type": "execute_result",
          "data": {
            "text/plain": [
              "tensor([[0.2175, 0.7659, 0.3430],\n",
              "        [0.9043, 0.7364, 0.3449],\n",
              "        [0.6403, 0.1120, 0.1014]])"
            ]
          },
          "metadata": {},
          "execution_count": 21
        }
      ]
    },
    {
      "cell_type": "code",
      "metadata": {
        "colab": {
          "base_uri": "https://localhost:8080/"
        },
        "id": "ypb9SUPz61VT",
        "outputId": "4e83129a-4fab-4dbf-d2d8-15e8998cd5e4"
      },
      "source": [
        "x = torch.diag(torch.ones(5))\n",
        "x"
      ],
      "execution_count": 22,
      "outputs": [
        {
          "output_type": "execute_result",
          "data": {
            "text/plain": [
              "tensor([[1., 0., 0., 0., 0.],\n",
              "        [0., 1., 0., 0., 0.],\n",
              "        [0., 0., 1., 0., 0.],\n",
              "        [0., 0., 0., 1., 0.],\n",
              "        [0., 0., 0., 0., 1.]])"
            ]
          },
          "metadata": {},
          "execution_count": 22
        }
      ]
    },
    {
      "cell_type": "markdown",
      "metadata": {
        "id": "jgx5U3TG8R2Z"
      },
      "source": [
        "## Intializing and Converting types"
      ]
    },
    {
      "cell_type": "code",
      "metadata": {
        "colab": {
          "base_uri": "https://localhost:8080/"
        },
        "id": "8E9Fglwu7o4o",
        "outputId": "ae3840d1-63ff-4f84-a0be-ec791f7702f5"
      },
      "source": [
        "x = torch.arange(4)\n",
        "x.bool()"
      ],
      "execution_count": 26,
      "outputs": [
        {
          "output_type": "execute_result",
          "data": {
            "text/plain": [
              "tensor([False,  True,  True,  True])"
            ]
          },
          "metadata": {},
          "execution_count": 26
        }
      ]
    },
    {
      "cell_type": "code",
      "metadata": {
        "colab": {
          "base_uri": "https://localhost:8080/"
        },
        "id": "4eydpCY27-6b",
        "outputId": "b5a032e7-9a8b-4e25-e851-298b4ba74661"
      },
      "source": [
        "print(x.short())\n",
        "print(x.long())\n",
        "print(x.half())\n"
      ],
      "execution_count": 28,
      "outputs": [
        {
          "output_type": "stream",
          "name": "stdout",
          "text": [
            "tensor([0, 1, 2, 3], dtype=torch.int16)\n",
            "tensor([0, 1, 2, 3])\n",
            "tensor([0., 1., 2., 3.], dtype=torch.float16)\n"
          ]
        }
      ]
    },
    {
      "cell_type": "code",
      "metadata": {
        "id": "imwZIreX8KJ6"
      },
      "source": [
        "x = torch.tensor([1,2,3])\n",
        "y = torch.tensor([4,5,6])"
      ],
      "execution_count": 29,
      "outputs": []
    },
    {
      "cell_type": "code",
      "metadata": {
        "colab": {
          "base_uri": "https://localhost:8080/"
        },
        "id": "KDS2tA7886Lr",
        "outputId": "d3ee32b0-8540-404b-d932-62ab2e6acd55"
      },
      "source": [
        "# add\n",
        "z = torch.empty(3)\n",
        "torch.add(x, y, out=z) # z= torch.add(x, y)\n",
        "z"
      ],
      "execution_count": 31,
      "outputs": [
        {
          "output_type": "execute_result",
          "data": {
            "text/plain": [
              "tensor([5., 7., 9.])"
            ]
          },
          "metadata": {},
          "execution_count": 31
        }
      ]
    },
    {
      "cell_type": "code",
      "metadata": {
        "colab": {
          "base_uri": "https://localhost:8080/"
        },
        "id": "dHdkC0fy9QLD",
        "outputId": "d9a08ee6-76ac-4eac-99ed-0f940de90599"
      },
      "source": [
        "z = torch.empty(3)\n",
        "torch.sub(x, y, out=z)\n",
        "z"
      ],
      "execution_count": 32,
      "outputs": [
        {
          "output_type": "execute_result",
          "data": {
            "text/plain": [
              "tensor([-3., -3., -3.])"
            ]
          },
          "metadata": {},
          "execution_count": 32
        }
      ]
    },
    {
      "cell_type": "code",
      "metadata": {
        "colab": {
          "base_uri": "https://localhost:8080/"
        },
        "id": "ENXp0h6o9je8",
        "outputId": "400a1ec2-8bda-4bc8-bd02-9cc5a768175b"
      },
      "source": [
        "z = torch.true_divide(x,y)\n",
        "z"
      ],
      "execution_count": 33,
      "outputs": [
        {
          "output_type": "execute_result",
          "data": {
            "text/plain": [
              "tensor([0.2500, 0.4000, 0.5000])"
            ]
          },
          "metadata": {},
          "execution_count": 33
        }
      ]
    },
    {
      "cell_type": "code",
      "metadata": {
        "colab": {
          "base_uri": "https://localhost:8080/"
        },
        "id": "v0oC3Knd-SJ7",
        "outputId": "4b004b21-79b2-4b21-d46d-490bd727aa75"
      },
      "source": [
        "#multiplication\n",
        "x = torch.rand(2,3)\n",
        "y = torch.rand(3,5)\n",
        "z= x.mm(y)\n",
        "z = torch.mm(x,y)\n",
        "z"
      ],
      "execution_count": 35,
      "outputs": [
        {
          "output_type": "execute_result",
          "data": {
            "text/plain": [
              "tensor([[0.6740, 0.2898, 0.4886, 0.5877, 0.6304],\n",
              "        [1.0845, 0.6537, 1.2877, 1.2998, 1.1582]])"
            ]
          },
          "metadata": {},
          "execution_count": 35
        }
      ]
    },
    {
      "cell_type": "code",
      "metadata": {
        "colab": {
          "base_uri": "https://localhost:8080/"
        },
        "id": "YwR6nik_-rU0",
        "outputId": "88c3c862-a5a3-4cbf-f190-bf1b67e3ad09"
      },
      "source": [
        "x = torch.rand(2,3)\n",
        "y = torch.rand(2,3)\n",
        "torch.eq(x,y)"
      ],
      "execution_count": 37,
      "outputs": [
        {
          "output_type": "execute_result",
          "data": {
            "text/plain": [
              "tensor([[False, False, False],\n",
              "        [False, False, False]])"
            ]
          },
          "metadata": {},
          "execution_count": 37
        }
      ]
    },
    {
      "cell_type": "code",
      "metadata": {
        "colab": {
          "base_uri": "https://localhost:8080/"
        },
        "id": "VdWUWcQzCS2O",
        "outputId": "c2f1612b-1fee-4644-cee6-5cf05c3d7670"
      },
      "source": [
        "torch.sort(y, descending=False)"
      ],
      "execution_count": 39,
      "outputs": [
        {
          "output_type": "execute_result",
          "data": {
            "text/plain": [
              "torch.return_types.sort(values=tensor([[0.6321, 0.6580, 0.6949],\n",
              "        [0.4812, 0.5222, 0.7280]]), indices=tensor([[0, 1, 2],\n",
              "        [0, 2, 1]]))"
            ]
          },
          "metadata": {},
          "execution_count": 39
        }
      ]
    },
    {
      "cell_type": "code",
      "metadata": {
        "colab": {
          "base_uri": "https://localhost:8080/"
        },
        "id": "3dYA1XJHDCGe",
        "outputId": "861e8b86-9cff-4eee-8ffe-dd750d10796b"
      },
      "source": [
        "x = torch.tensor([1,0,1,1])\n",
        "z = torch.any(x)\n",
        "z"
      ],
      "execution_count": 42,
      "outputs": [
        {
          "output_type": "execute_result",
          "data": {
            "text/plain": [
              "tensor(True)"
            ]
          },
          "metadata": {},
          "execution_count": 42
        }
      ]
    }
  ]
}